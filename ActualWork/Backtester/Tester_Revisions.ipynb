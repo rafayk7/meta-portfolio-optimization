{
 "cells": [
  {
   "cell_type": "code",
   "execution_count": 1,
   "metadata": {},
   "outputs": [],
   "source": [
    "import pandas as pd\n",
    "import numpy as np"
   ]
  },
  {
   "cell_type": "code",
   "execution_count": 5,
   "metadata": {},
   "outputs": [],
   "source": [
    "path_to_data = r\"C:\\Users\\Rafay\\Documents\\thesis3\\thesis\\ActualWork\\e2e\\cache\"\n",
    "factors_list = ['RF']"
   ]
  },
  {
   "attachments": {},
   "cell_type": "markdown",
   "metadata": {},
   "source": [
    "# Data Load"
   ]
  },
  {
   "cell_type": "code",
   "execution_count": 3,
   "metadata": {},
   "outputs": [],
   "source": [
    "def LoadData(path_to_data, e2e=True, datatype='broad'):\n",
    "    if e2e:\n",
    "        path_to_returns = r'{}\\asset_weekly_{}.pkl'.format(path_to_data, datatype)\n",
    "        path_to_prices = r'{}\\assetprices_weekly_{}.pkl'.format(path_to_data, datatype)\n",
    "        path_to_factors = r'{}\\factor_weekly_{}.pkl'.format(path_to_data, datatype)\n",
    "\n",
    "        returns = pd.read_pickle(path_to_returns)\n",
    "        prices = pd.read_pickle(path_to_prices)\n",
    "        factors = pd.read_pickle(path_to_factors)\n",
    "\n",
    "        assets_list = prices.columns.to_list()\n",
    "\n",
    "        returns = returns.reset_index()\n",
    "        prices = prices.reset_index()\n",
    "        factors = factors.reset_index()\n",
    "\n",
    "        factors = factors.rename(columns={\"Date\": \"date\", \"Mkt-RF\": \"RF\"})\n",
    "        factors = factors[['date'] + factors_list]\n",
    "\n",
    "        return returns, assets_list, prices, factors\n",
    "\n",
    "    path_to_prices = r'{}\\prices.csv'.format(path_to_data)\n",
    "    path_to_factors = r'{}\\3factors.csv'.format(path_to_data)\n",
    "\n",
    "    prices = pd.read_csv(path_to_prices)\n",
    "    factors = pd.read_csv(path_to_factors)\n",
    "\n",
    "    assets_list = list(prices['symbol'].unique())\n",
    "\n",
    "    assets_list_cleaned = [x for x in assets_list if str(x) != 'nan']\n",
    "    pivot_prices = np.round(pd.pivot_table(prices, values='close', \n",
    "                                    index='date', \n",
    "                                    columns='symbol', \n",
    "                                    aggfunc=np.mean),2)\n",
    "    pivot_prices = pivot_prices.reset_index()\n",
    "    pivot_prices['date'] = pd.to_datetime(pivot_prices['date'])\n",
    "    factors['date'] = pd.to_datetime(factors['Date'], format=\"%Y%m%d\")\n",
    "\n",
    "    pivot_prices = pivot_prices.set_index('date')\n",
    "    returns = pivot_prices.pct_change()\n",
    "    pivot_prices = pivot_prices.reset_index()\n",
    "    returns = returns.reset_index()\n",
    "    returns = returns.merge(factors, on='date', how='left')\n",
    "    returns = returns.drop(['Date'], axis=1)\n",
    "    returns = returns.dropna()\n",
    "\n",
    "    return returns, assets_list_cleaned, pivot_prices, []\n"
   ]
  },
  {
   "cell_type": "code",
   "execution_count": 6,
   "metadata": {},
   "outputs": [],
   "source": [
    "datatype='cross_asset'\n",
    "returns, assets_list_cleaned, prices, factors = LoadData(path_to_data, e2e=True, datatype=datatype)"
   ]
  },
  {
   "attachments": {},
   "cell_type": "markdown",
   "metadata": {},
   "source": [
    "# (i) Ledoit-Wolfe Shrinkage"
   ]
  },
  {
   "cell_type": "code",
   "execution_count": 7,
   "metadata": {},
   "outputs": [],
   "source": [
    "def shrinkage(returns):\n",
    "    \"\"\"Shrinks sample covariance matrix towards constant correlation unequal variance matrix.\n",
    "    Ledoit & Wolf (\"Honey, I shrunk the sample covariance matrix\", Portfolio Management, 30(2004),\n",
    "    110-119) optimal asymptotic shrinkage between 0 (sample covariance matrix) and 1 (constant\n",
    "    sample average correlation unequal sample variance matrix).\n",
    "    Paper:\n",
    "    http://www.ledoit.net/honey.pdf\n",
    "    Matlab code:\n",
    "    https://www.econ.uzh.ch/dam/jcr:ffffffff-935a-b0d6-ffff-ffffde5e2d4e/covCor.m.zip\n",
    "    Special thanks to Evgeny Pogrebnyak https://github.com/epogrebnyak\n",
    "    :param returns:\n",
    "        t, n - returns of t observations of n shares.\n",
    "    :return:\n",
    "        Covariance matrix, sample average correlation, shrinkage.\n",
    "    \"\"\"\n",
    "    t, n = returns.shape\n",
    "    mean_returns = np.mean(returns, axis=0, keepdims=True)\n",
    "    returns -= mean_returns\n",
    "    sample_cov = returns.transpose() @ returns / t\n",
    "\n",
    "    # sample average correlation\n",
    "    var = np.diag(sample_cov).reshape(-1, 1)\n",
    "    sqrt_var = var ** 0.5\n",
    "    unit_cor_var = sqrt_var * sqrt_var.transpose()\n",
    "    average_cor = ((sample_cov / unit_cor_var).sum() - n) / n / (n - 1)\n",
    "    prior = average_cor * unit_cor_var\n",
    "    np.fill_diagonal(prior, var)\n",
    "\n",
    "    # pi-hat\n",
    "    y = returns ** 2\n",
    "    phi_mat = (y.transpose() @ y) / t - sample_cov ** 2\n",
    "    phi = phi_mat.sum()\n",
    "\n",
    "    # rho-hat\n",
    "    theta_mat = ((returns ** 3).transpose() @ returns) / t - var * sample_cov\n",
    "    np.fill_diagonal(theta_mat, 0)\n",
    "    rho = (\n",
    "        np.diag(phi_mat).sum()\n",
    "        + average_cor * (1 / sqrt_var @ sqrt_var.transpose() * theta_mat).sum()\n",
    "    )\n",
    "\n",
    "    # gamma-hat\n",
    "    gamma = np.linalg.norm(sample_cov - prior, \"fro\") ** 2\n",
    "\n",
    "    # shrinkage constant\n",
    "    kappa = (phi - rho) / gamma\n",
    "    shrink = max(0, min(1, kappa / t))\n",
    "\n",
    "    # estimator\n",
    "    sigma = shrink * prior + (1 - shrink) * sample_cov\n",
    "\n",
    "    return sigma, average_cor, shrink"
   ]
  },
  {
   "cell_type": "code",
   "execution_count": 8,
   "metadata": {},
   "outputs": [],
   "source": [
    "sigma, average_cor, shrink = shrinkage(returns.drop('date', axis=1).to_numpy())"
   ]
  },
  {
   "cell_type": "code",
   "execution_count": 9,
   "metadata": {},
   "outputs": [
    {
     "data": {
      "text/plain": [
       "array([[4.11719612e-04, 1.05466722e-05, 1.72681015e-04],\n",
       "       [1.05466722e-05, 2.97840162e-05, 3.20162546e-05],\n",
       "       [1.72681015e-04, 3.20162546e-05, 5.96583123e-04]])"
      ]
     },
     "execution_count": 9,
     "metadata": {},
     "output_type": "execute_result"
    }
   ],
   "source": [
    "sigma"
   ]
  }
 ],
 "metadata": {
  "kernelspec": {
   "display_name": "base",
   "language": "python",
   "name": "python3"
  },
  "language_info": {
   "codemirror_mode": {
    "name": "ipython",
    "version": 3
   },
   "file_extension": ".py",
   "mimetype": "text/x-python",
   "name": "python",
   "nbconvert_exporter": "python",
   "pygments_lexer": "ipython3",
   "version": "3.9.13"
  },
  "orig_nbformat": 4
 },
 "nbformat": 4,
 "nbformat_minor": 2
}
