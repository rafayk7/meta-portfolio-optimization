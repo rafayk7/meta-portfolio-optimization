{
 "cells": [
  {
   "cell_type": "code",
   "execution_count": 1,
   "metadata": {},
   "outputs": [],
   "source": [
    "from tqdm import tqdm\n",
    "import pandas as pd\n",
    "import matplotlib.pyplot as plt\n",
    "import seaborn as sns\n",
    "import numpy as np\n",
    "import cvxpy as cp\n",
    "from util import LoadData, generate_date_list, start, end, factors_list\n",
    "from Optimizers import Optimizers, GetOptimalAllocation, drrpw_net\n",
    "from FactorModelling import GetParameterEstimates\n",
    "import PortfolioClasses as pc\n",
    "import LossFunctions as lf\n",
    "from torch.autograd import Variable\n",
    "import torch\n",
    "\n",
    "from torch.utils.data import DataLoader\n",
    "\n",
    "def RunBacktest(path_to_data, opt_type, InitialValue=1000000, lookback = 30, datatype='broad'):\n",
    "    returns, assets_list_cleaned, prices, factors = LoadData(path_to_data, e2e=True, datatype=datatype)\n",
    "    holdings = pd.DataFrame(columns=['date']+assets_list_cleaned)\n",
    "    portVal = pd.DataFrame(columns=['date', 'Wealth'])\n",
    "\n",
    "    dates = generate_date_list(returns, prices, start=start, end=end)\n",
    "    first = True\n",
    "    \n",
    "    for date in dates:\n",
    "        # Get Asset Prices for Today\n",
    "        currentPrices = (prices[prices['date']==str(date)]\n",
    "            .drop('date',axis=1)\n",
    "            .values\n",
    "            .flatten())\n",
    "        \n",
    "        # Update Portfolio Value\n",
    "        if first:\n",
    "            portVal.loc[len(portVal)] = [date] + [InitialValue]\n",
    "            CurrentPortfolioValue = InitialValue\n",
    "            first = False\n",
    "        else:     \n",
    "            CurrentPortfolioValue = np.dot(currentPrices,noShares)\n",
    "            portVal.loc[len(portVal)] = [date] + [CurrentPortfolioValue]\n",
    "            \n",
    "        # We don't want the current date information, hence the lack of equality\n",
    "        # Get last 30\n",
    "        date = str(date)\n",
    "        \n",
    "        returns_lastn = returns[(returns['date'] < date)].tail(lookback)\n",
    "        asset_returns = returns_lastn.drop('date', axis=1)\n",
    "\n",
    "        factor_returns = factors[(factors['date'] < date)].tail(lookback)\n",
    "        factor_returns = factor_returns.drop('date', axis=1)\n",
    "\n",
    "        mu, Q = GetParameterEstimates(asset_returns, factor_returns, log=False, bad=True)\n",
    "        x = GetOptimalAllocation(mu, Q, opt_type)\n",
    "\n",
    "        # Update Holdings\n",
    "        holdings.loc[len(holdings)] = [date] + list(x)\n",
    "\n",
    "        # Update shares held\n",
    "        # 50% of 100k = 50k. If price is 100 we have 50,000/100=50 shares\n",
    "        noShares = np.divide(x*CurrentPortfolioValue, currentPrices)\n",
    "        print('Done {}'.format(date))\n",
    "    \n",
    "    portVal['date'] = pd.to_datetime(portVal['date'])\n",
    "    portVal = portVal.merge(factors[['date','RF']], how='left', on='date')\n",
    "\n",
    "    return holdings, portVal"
   ]
  },
  {
   "cell_type": "code",
   "execution_count": null,
   "metadata": {},
   "outputs": [],
   "source": [
    "def RP(mu,Q):\n",
    "    \n",
    "    # # of Assets\n",
    "    n = len(mu)\n",
    "\n",
    "    # Decision Variables\n",
    "    w = cp.Variable(n)\n",
    "\n",
    "    # Kappa\n",
    "    k = 2\n",
    "\n",
    "    # Penalty\n",
    "    lmda = 1\n",
    "          \n",
    "    constraints = [\n",
    "        w>=0 # Disallow Short Sales\n",
    "    ]\n",
    "\n",
    "    # Objective Function\n",
    "    risk = cp.quad_form(w, Q)\n",
    "    log_term = 0\n",
    "    for i in range(n):\n",
    "        log_term += cp.log(w[i])\n",
    "    \n",
    "    prob = cp.Problem(cp.Minimize(risk-(k*log_term) + lmda*cp.norm(w, 1)), constraints=constraints)\n",
    "    \n",
    "    # ECOS fails sometimes, if it does then do SCS\n",
    "    try:\n",
    "        prob.solve(verbose=False)\n",
    "    except:\n",
    "        prob.solve(solver='SCS',verbose=False)\n",
    "\n",
    "    x = w.value\n",
    "    x = np.divide(x, np.sum(x))\n",
    "\n",
    "    # Check Risk Parity Condition is actually met\n",
    "    risk_contrib = np.multiply(x, Q.dot(x))\n",
    "    if not np.all(np.isclose(risk_contrib, risk_contrib[0])):\n",
    "        print(\"RP did not work\")\n",
    "\n",
    "    return x"
   ]
  },
  {
   "cell_type": "code",
   "execution_count": 4,
   "metadata": {},
   "outputs": [],
   "source": [
    "import torch.nn as nn\n",
    "import torch\n"
   ]
  },
  {
   "cell_type": "code",
   "execution_count": 229,
   "metadata": {},
   "outputs": [],
   "source": [
    "class CardinalityLoss(nn.Module):\n",
    "    def __init__(self, cardinality):\n",
    "        super(CardinalityLoss, self).__init__()\n",
    "\n",
    "        self.cardinality = cardinality\n",
    "\n",
    "    def forward(self, output):\n",
    "        penalty = 1000\n",
    "        a = np.array([0]*self.cardinality)\n",
    "        a[0] = -100\n",
    "        b = np.array([penalty]*(len(output)-self.cardinality))\n",
    "        penalty_vec = np.concatenate((b,a))\n",
    "        penalty_tensor = torch.from_numpy(penalty_vec.astype('float64'))\n",
    "        loss = torch.dot(output, penalty_tensor)\n",
    "        return loss\n"
   ]
  },
  {
   "cell_type": "code",
   "execution_count": 131,
   "metadata": {},
   "outputs": [],
   "source": [
    "import random"
   ]
  },
  {
   "cell_type": "code",
   "execution_count": 238,
   "metadata": {},
   "outputs": [
    {
     "name": "stdout",
     "output_type": "stream",
     "text": [
      "[1000 1000 1000 1000 1000 1000 1000 1000 1000 1000 -100    0    0    0\n",
      "    0    0    0    0    0    0]\n",
      "[1000 1000 1000 1000 1000 1000 1000 1000 1000 1000 -100    0    0    0\n",
      "    0    0    0    0    0    0]\n",
      "[1000 1000 1000 1000 1000 1000 1000 1000 1000 1000 -100    0    0    0\n",
      "    0    0    0    0    0    0]\n",
      "[1000 1000 1000 1000 1000 1000 1000 1000 1000 1000 -100    0    0    0\n",
      "    0    0    0    0    0    0]\n",
      "[1000 1000 1000 1000 1000 1000 1000 1000 1000 1000 -100    0    0    0\n",
      "    0    0    0    0    0    0]\n",
      "[1000 1000 1000 1000 1000 1000 1000 1000 1000 1000 -100    0    0    0\n",
      "    0    0    0    0    0    0]\n",
      "[1000 1000 1000 1000 1000 1000 1000 1000 1000 1000 -100    0    0    0\n",
      "    0    0    0    0    0    0]\n",
      "[1000 1000 1000 1000 1000 1000 1000 1000 1000 1000 -100    0    0    0\n",
      "    0    0    0    0    0    0]\n",
      "[1000 1000 1000 1000 1000 1000 1000 1000 1000 1000 -100    0    0    0\n",
      "    0    0    0    0    0    0]\n",
      "[1000 1000 1000 1000 1000 1000 1000 1000 1000 1000 -100    0    0    0\n",
      "    0    0    0    0    0    0]\n",
      "[1000 1000 1000 1000 1000 1000 1000 1000 1000 1000 -100    0    0    0\n",
      "    0    0    0    0    0    0]\n",
      "[1000 1000 1000 1000 1000 1000 1000 1000 1000 1000 -100    0    0    0\n",
      "    0    0    0    0    0    0]\n",
      "[1000 1000 1000 1000 1000 1000 1000 1000 1000 1000 -100    0    0    0\n",
      "    0    0    0    0    0    0]\n",
      "[1000 1000 1000 1000 1000 1000 1000 1000 1000 1000 -100    0    0    0\n",
      "    0    0    0    0    0    0]\n",
      "[1000 1000 1000 1000 1000 1000 1000 1000 1000 1000 -100    0    0    0\n",
      "    0    0    0    0    0    0]\n",
      "[1000 1000 1000 1000 1000 1000 1000 1000 1000 1000 -100    0    0    0\n",
      "    0    0    0    0    0    0]\n",
      "[1000 1000 1000 1000 1000 1000 1000 1000 1000 1000 -100    0    0    0\n",
      "    0    0    0    0    0    0]\n",
      "[1000 1000 1000 1000 1000 1000 1000 1000 1000 1000 -100    0    0    0\n",
      "    0    0    0    0    0    0]\n",
      "[1000 1000 1000 1000 1000 1000 1000 1000 1000 1000 -100    0    0    0\n",
      "    0    0    0    0    0    0]\n",
      "[1000 1000 1000 1000 1000 1000 1000 1000 1000 1000 -100    0    0    0\n",
      "    0    0    0    0    0    0]\n",
      "[1000 1000 1000 1000 1000 1000 1000 1000 1000 1000 -100    0    0    0\n",
      "    0    0    0    0    0    0]\n"
     ]
    },
    {
     "data": {
      "text/plain": [
       "Text(0.5, 1.0, 'Cardinality Loss with n=20, k=10')"
      ]
     },
     "execution_count": 238,
     "metadata": {},
     "output_type": "execute_result"
    },
    {
     "data": {
      "image/png": "[encoded data removed]",
      "text/plain": [
       "<Figure size 640x480 with 1 Axes>"
      ]
     },
     "metadata": {},
     "output_type": "display_data"
    }
   ],
   "source": [
    "n = 20\n",
    "k = 10\n",
    "res_x = []\n",
    "res_y = []\n",
    "softmax = nn.Softmax()\n",
    "for i in range(n+1):\n",
    "    l_form = [0.]*(n-i)\n",
    "    non_zero = [random.random() for _ in range(i)]\n",
    "    non_zero = [x/sum(non_zero) for x in non_zero]\n",
    "    l_form += non_zero\n",
    "    input = torch.tensor(np.sort(l_form, axis=None), requires_grad=True)\n",
    "    \n",
    "    criterion = CardinalityLoss(k)\n",
    "    output = criterion(input)\n",
    "\n",
    "    res_x.append(i)\n",
    "    res_y.append(float(output))\n",
    "zmin = np.min(res_y)\n",
    "mask = np.array(res_y) == zmin\n",
    "color = np.where(mask, 'red', 'blue')\n",
    "\n",
    "plt.scatter(res_x, res_y, color=color)\n",
    "plt.xlabel('# of Non-Zero Terms')\n",
    "plt.ylabel('Loss')\n",
    "plt.title('Cardinality Loss with n={}, k={}'.format(n,k))\n"
   ]
  },
  {
   "cell_type": "code",
   "execution_count": 217,
   "metadata": {},
   "outputs": [
    {
     "data": {
      "text/plain": [
       "Text(0.5, 1.0, 'Cardinality Loss with n=10, k=3')"
      ]
     },
     "execution_count": 217,
     "metadata": {},
     "output_type": "execute_result"
    },
    {
     "data": {
      "image/png": "[encoded data removed]",
      "text/plain": [
       "<Figure size 640x480 with 1 Axes>"
      ]
     },
     "metadata": {},
     "output_type": "display_data"
    }
   ],
   "source": []
  },
  {
   "cell_type": "code",
   "execution_count": 51,
   "metadata": {},
   "outputs": [],
   "source": [
    "output.backward()"
   ]
  },
  {
   "cell_type": "code",
   "execution_count": 88,
   "metadata": {},
   "outputs": [
    {
     "data": {
      "text/plain": [
       "[0.2, 0.2, 0.2, 0, 0]"
      ]
     },
     "execution_count": 88,
     "metadata": {},
     "output_type": "execute_result"
    }
   ],
   "source": [
    "l = [0, 0, 0.2, 0.2, 0.2]\n",
    "\n"
   ]
  },
  {
   "cell_type": "code",
   "execution_count": 86,
   "metadata": {},
   "outputs": [
    {
     "data": {
      "text/plain": [
       "[0, 0, 0.2, 0.2, 0.2]"
      ]
     },
     "execution_count": 86,
     "metadata": {},
     "output_type": "execute_result"
    }
   ],
   "source": [
    "l"
   ]
  },
  {
   "cell_type": "code",
   "execution_count": 23,
   "metadata": {},
   "outputs": [
    {
     "data": {
      "text/plain": [
       "array([     0,      0,      0, 100000, 100000])"
      ]
     },
     "execution_count": 23,
     "metadata": {},
     "output_type": "execute_result"
    }
   ],
   "source": []
  },
  {
   "cell_type": "code",
   "execution_count": 12,
   "metadata": {},
   "outputs": [],
   "source": [
    "x = torch.zeros(3,3)\n",
    "x[torch.randn(3,3) > 0.5] = 1\n",
    "torch.count_nonzero(x)"
   ]
  }
 ],
 "metadata": {
  "kernelspec": {
   "display_name": "base",
   "language": "python",
   "name": "python3"
  },
  "language_info": {
   "codemirror_mode": {
    "name": "ipython",
    "version": 3
   },
   "file_extension": ".py",
   "mimetype": "text/x-python",
   "name": "python",
   "nbconvert_exporter": "python",
   "pygments_lexer": "ipython3",
   "version": "3.9.13"
  },
  "orig_nbformat": 4
 },
 "nbformat": 4,
 "nbformat_minor": 2
}
